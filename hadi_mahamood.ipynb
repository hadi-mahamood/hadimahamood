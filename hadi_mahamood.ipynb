{
  "nbformat": 4,
  "nbformat_minor": 0,
  "metadata": {
    "colab": {
      "provenance": []
    },
    "kernelspec": {
      "name": "python3",
      "display_name": "Python 3"
    },
    "language_info": {
      "name": "python"
    }
  },
  "cells": [
    {
      "cell_type": "markdown",
      "source": [],
      "metadata": {
        "id": "lD7G3oeB_25w"
      }
    },
    {
      "cell_type": "code",
      "source": [
        "'''1. Write a Python function to accept a string value from the user and display the\n",
        "count of each character in that string. Sample input: Enter a string value:\n",
        "assembly Sample output: a=1, s=2, e=1, m=1, b=1, l=1, y=1'''\n",
        "\n",
        "def count_characters(string):\n",
        "  counts = {}\n",
        "  for char in string:\n",
        "    if char in counts:\n",
        "      counts[char] += 1\n",
        "    else:\n",
        "      counts[char] = 1\n",
        "  return counts\n",
        "string = input(\"Enter a string value: \")\n",
        "counts = count_characters(string)\n",
        "for char, count in counts.items():\n",
        "  print(f\"{char}={count}\")"
      ],
      "metadata": {
        "colab": {
          "base_uri": "https://localhost:8080/"
        },
        "id": "7fZyYeTSCJ10",
        "outputId": "862d21ee-486c-42bc-8f48-c7058e50c568"
      },
      "execution_count": 6,
      "outputs": [
        {
          "output_type": "stream",
          "name": "stdout",
          "text": [
            "Enter a string value: 9539030229\n",
            "9=3\n",
            "5=1\n",
            "3=2\n",
            "0=2\n",
            "2=2\n"
          ]
        }
      ]
    },
    {
      "cell_type": "code",
      "source": [
        "'''2. Write a Python function to find the maximum of three numbers Sample input:\n",
        "34,12,7 Sample output: 34'''\n",
        "\n",
        "def max(x,y,z):\n",
        "\n",
        " if x>y and x>z:\n",
        "   print(x, 'is the maximum')\n",
        " elif y>x and y>z:\n",
        "   print(y, 'is the maximum')\n",
        " else:\n",
        "   print(z, 'is the maximum')\n",
        "x=int(input(\"Enter the first number: \"))\n",
        "y=int(input(\"Enter the second number: \"))\n",
        "z=int(input(\"Enter the third number: \"))\n",
        "max(x,y,z)"
      ],
      "metadata": {
        "colab": {
          "base_uri": "https://localhost:8080/"
        },
        "id": "wcjGU2llDA6h",
        "outputId": "f53ab5a7-8b20-4685-f47f-de38845b70ce"
      },
      "execution_count": 20,
      "outputs": [
        {
          "output_type": "stream",
          "name": "stdout",
          "text": [
            "Enter the first number: 6\n",
            "Enter the second number: 4\n",
            "Enter the third number: 9\n",
            "9 is the maximum\n"
          ]
        }
      ]
    },
    {
      "cell_type": "code",
      "source": [
        "'''3. Write a Python function called exponent(base,exp) that returns an integer\n",
        "value of base raises to the power of exp. Sample input: Enter the base: 2\n",
        "Enter the exponent: 3 Sample output: 8'''\n",
        "\n",
        "def exponent(num1,num2):\n",
        "  print(num1**num2)\n",
        "num1=int(input(\"enter the base:- \"))\n",
        "num2=int(input(\"enter the exponent:- \"))\n",
        "exponent(num1,num2)\n"
      ],
      "metadata": {
        "colab": {
          "base_uri": "https://localhost:8080/"
        },
        "id": "PEmlnk0yTeMb",
        "outputId": "0c8ed0f7-6385-4b88-fe7d-fe483df11dcc"
      },
      "execution_count": 31,
      "outputs": [
        {
          "output_type": "stream",
          "name": "stdout",
          "text": [
            "enter the base:- 4\n",
            "enter the exponent:- 3\n",
            "64\n"
          ]
        }
      ]
    },
    {
      "cell_type": "code",
      "source": [
        "'''4. Write a Python function that takes a positive integer and returns the sum of\n",
        "the cube of all the positive integers smaller than the specified number.\n",
        "Sample input: 4 Sample output: 36'''\n",
        "\n",
        "def sumofcube(a):\n",
        "  sum=0\n",
        "  if a>0:\n",
        "    for i in range(1,a):\n",
        "      sum+=i**3\n",
        "  else:\n",
        "    print(\"The given number is not a positive integer!\")\n",
        "  return sum\n",
        "a=int(input(\"Enter the number: \"))\n",
        "b=sumofcube(a)\n",
        "print(\"The sum of positive squared smaller than the specified number is:\",b)"
      ],
      "metadata": {
        "colab": {
          "base_uri": "https://localhost:8080/"
        },
        "id": "uwHi4mD5eDu9",
        "outputId": "5c43369e-793d-4193-f7fd-adf3ce8ab2b6"
      },
      "execution_count": 34,
      "outputs": [
        {
          "output_type": "stream",
          "name": "stdout",
          "text": [
            "Enter the number: 4\n",
            "The sum of positive squared smaller than the specified number is: 36\n"
          ]
        }
      ]
    },
    {
      "cell_type": "code",
      "source": [
        "'''5. Write a Python program which iterates from 1 to 10. For multiples of 2, print\n",
        "“Fizz” instead of the number and for the multiples of 5, print “Buzz”. For\n",
        "numbers which are multiples of both 2 and 5, print “FizzBuzz”. Sample input:\n",
        "numbers from 1 to 10 Sample output: 1 Fizz 3 Fizz Buzz Fizz 7 Fizz 9\n",
        "FizzBuzz'''\n",
        "\n",
        "for i in range(1,10):\n",
        "  if(i%2==0 and i%5==0):\n",
        "    print(\"FizzBuzz\")\n",
        "  elif(i%2 == 0):\n",
        "    print(\"Fizz\")\n",
        "  elif(i%5 == 0):\n",
        "    print(\"Buzz\")\n",
        "  else:\n",
        "    print(i)"
      ],
      "metadata": {
        "colab": {
          "base_uri": "https://localhost:8080/"
        },
        "id": "ipK78WRcgY9_",
        "outputId": "1c747f9c-59b0-4645-f497-d265435ffe7f"
      },
      "execution_count": 35,
      "outputs": [
        {
          "output_type": "stream",
          "name": "stdout",
          "text": [
            "1\n",
            "Fizz\n",
            "3\n",
            "Fizz\n",
            "Buzz\n",
            "Fizz\n",
            "7\n",
            "Fizz\n",
            "9\n"
          ]
        }
      ]
    },
    {
      "cell_type": "code",
      "source": [
        "'''6. Write a Python function to find the most frequent item in a list of numbers.\n",
        "Sample input: 2, 3, 4, 2, 5, 2 Sample output: 2'''\n",
        "\n",
        "def commonno(L):\n",
        "  maxcount=0\n",
        "  mostfrequent=0\n",
        "  for i in L:\n",
        "    count=L.count(i)\n",
        "    if count>maxcount:\n",
        "      mostfrequent=i\n",
        "      maxcount=count\n",
        "    elif maxcount==1:\n",
        "      print(\"There is no frequent number!\")\n",
        "      break\n",
        "  return mostfrequent,maxcount\n",
        "\n",
        "L=[]\n",
        "n=int(input(\"Enter the amount of numbers to be inputted into the list: \"))\n",
        "for i in range(0,n):\n",
        "  a=int(input(\"Enter the Number: \"))\n",
        "  L.append(a)\n",
        "b,c=commonno(L)\n",
        "if c!=1:\n",
        "  print(\"The most frequent item is:\",b,\"and its count is:\",c)\n",
        "\n"
      ],
      "metadata": {
        "colab": {
          "base_uri": "https://localhost:8080/"
        },
        "id": "F96wLOWMiQqI",
        "outputId": "1c3beb3a-5ad5-46fe-e4ae-a85169fa211b"
      },
      "execution_count": 42,
      "outputs": [
        {
          "output_type": "stream",
          "name": "stdout",
          "text": [
            "Enter the amount of numbers to be inputted into the list: 3\n",
            "Enter the Number: 3\n",
            "Enter the Number: 6\n",
            "Enter the Number: 5\n",
            "There is no frequent number!\n"
          ]
        }
      ]
    },
    {
      "cell_type": "code",
      "source": [
        "'''7. Write a Python function to find the sum of squares of the numbers in a list.\n",
        "Sample input: 2,1,3,1 Sample output: 15'''\n",
        "\n",
        "s = 0\n",
        "l1 = [2,1,3,1]\n",
        "for n in l1:\n",
        "  s = s+n*n\n",
        "  print(s)"
      ],
      "metadata": {
        "colab": {
          "base_uri": "https://localhost:8080/"
        },
        "id": "TWChsE9niy6o",
        "outputId": "1a3bec34-c320-4e84-f37a-1320b47e7fd9"
      },
      "execution_count": 37,
      "outputs": [
        {
          "output_type": "stream",
          "name": "stdout",
          "text": [
            "4\n",
            "5\n",
            "14\n",
            "15\n"
          ]
        }
      ]
    },
    {
      "cell_type": "code",
      "source": [
        "'''8. Write a Python program using for loop that will iterate from 1 to 15. For each\n",
        "iteration, check if the current number is odd or even, and display the message\n",
        "to the screen as odd or even. Sample input: 1….15 Sample output: 1-odd 2-\n",
        "even …. 15-odd'''\n",
        "\n",
        "l1= [1,2,3,4,5,6,7,8,9,10,11,12,13,14,15]\n",
        "even=[]\n",
        "odd=[]\n",
        "while len(l1)>0:\n",
        "  l=l1.pop()\n",
        "  if l%2==0:\n",
        "    even.append(l)\n",
        "  else:\n",
        "      odd.append(l)\n",
        "print(even)\n",
        "print(odd)"
      ],
      "metadata": {
        "colab": {
          "base_uri": "https://localhost:8080/"
        },
        "id": "lYnqHrjAj9Hf",
        "outputId": "e0793477-2e13-48ba-ec83-82b7150ed139"
      },
      "execution_count": 39,
      "outputs": [
        {
          "output_type": "stream",
          "name": "stdout",
          "text": [
            "[14, 12, 10, 8, 6, 4, 2]\n",
            "[15, 13, 11, 9, 7, 5, 3, 1]\n"
          ]
        }
      ]
    },
    {
      "cell_type": "code",
      "source": [
        "'''9. Write a Python function to convert temperatures to and from Celsius\n",
        "Fahrenheit. [Formula: c/5=f-32/9 where c=temperature in Celsius and f=\n",
        "temperature in Fahrenheit.] Sample input: Temperature in Fahrenheit =41\n",
        "Sample output: Temperature in Celsius =5'''\n",
        "\n",
        "a = int(input('enter the temperature: '))\n",
        "F = (a*9/5)+32\n",
        "print ('Celsious to Farenheit: ',(F))"
      ],
      "metadata": {
        "colab": {
          "base_uri": "https://localhost:8080/"
        },
        "id": "Y2RAGPwfkARK",
        "outputId": "318cd211-fa84-4288-fc89-269c4dbcc062"
      },
      "execution_count": 43,
      "outputs": [
        {
          "output_type": "stream",
          "name": "stdout",
          "text": [
            "enter the temperature: 34\n",
            "Celsious to Farenheit:  93.2\n"
          ]
        }
      ]
    },
    {
      "cell_type": "code",
      "source": [
        "'''10. Write a Python function to calculate the factorial of a number (a nonnegative\n",
        "integer). The function accepts the number as an argument. Sample input: 3\n",
        "Sample output: 6'''\n",
        "\n",
        "def factorial(x):\n",
        "  fact=0\n",
        "  if x<0:\n",
        "    print(\"Sorry, factorial does not exist for negative numbers\")\n",
        "  elif num == 0:\n",
        "   print(\"The factorial of 0 is 1\")\n",
        "  else:\n",
        "   for i in range(1,x+1):\n",
        "       fact+=i\n",
        "   print(\"The factorial of\",x,\"is\",fact)\n",
        "factorial(3)"
      ],
      "metadata": {
        "colab": {
          "base_uri": "https://localhost:8080/"
        },
        "id": "cQeO_4R_kLrE",
        "outputId": "daeed9be-4028-4c51-a0bf-1411c3065ab2"
      },
      "execution_count": 45,
      "outputs": [
        {
          "output_type": "stream",
          "name": "stdout",
          "text": [
            "The factorial of 3 is 6\n"
          ]
        }
      ]
    },
    {
      "cell_type": "code",
      "source": [],
      "metadata": {
        "id": "yqux9PTgp2v6"
      },
      "execution_count": null,
      "outputs": []
    }
  ]
}